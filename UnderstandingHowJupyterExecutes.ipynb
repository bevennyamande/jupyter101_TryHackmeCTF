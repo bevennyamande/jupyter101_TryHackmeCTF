{
 "cells": [
  {
   "cell_type": "markdown",
   "metadata": {},
   "source": [
    "## Cells act just like an interpreter!\n",
    "This means you can run code like arthmetic and well anything else you can do on an interpreter."
   ]
  },
  {
   "cell_type": "code",
   "execution_count": 1,
   "metadata": {
    "scrolled": true
   },
   "outputs": [
    {
     "name": "stdout",
     "output_type": "stream",
     "text": [
      "Hello World!\n"
     ]
    }
   ],
   "source": [
    "print('Hello World!')"
   ]
  },
  {
   "cell_type": "markdown",
   "metadata": {},
   "source": [
    "## Now lets use multiple cells"
   ]
  },
  {
   "cell_type": "markdown",
   "metadata": {},
   "source": [
    "Normally, once a Notebook is executed, it will step through to each Cell unless it runs into a problem. Each \"step\" the Notebook has done is indicated by the \"In **[#]**:\" next to the Cell, where **#** would be the value of the order it was executed.\n",
    "\n",
    "So naturally, if there was no issue, the notebook will proceed to the next cell, where its \"In **[#]** value would now become **2**"
   ]
  },
  {
   "cell_type": "code",
   "execution_count": 2,
   "metadata": {},
   "outputs": [
    {
     "name": "stdout",
     "output_type": "stream",
     "text": [
      "See how the In[2] value is 2?\n"
     ]
    }
   ],
   "source": [
    "print('See how the In[2] value is 2?')"
   ]
  },
  {
   "cell_type": "markdown",
   "metadata": {},
   "source": [
    "However, a beautiful feature of Jupyter is that you don't have to run the entire Notebook just to execute the code within a Cell. You can just execute that individual Cell! You can do this by either of the following:\n",
    "\n",
    "- Shift + Enter\n",
    "- Pressing the >| sign next to the Cell\n",
    "\n",
    "However, as Cells are treated \"individually\", it means that if you have say variables in cells above that you have not yet executed, you will have a problem.\n",
    "\n",
    "It should also be noted that if you execute a cell again, the \"In **[#]**\" value will increment, as it is technically another step through the notebook (albeit that you are simply executing the same cell again)\n",
    "\n",
    "##### For example:\n",
    "\n",
    "Cell 2 that has the In[2] value, if it is executed 5 more times before Cell 3 is, then Cell 2's will become In[7]. If Cell 3 is then executed, Cell 3 will increment by one, so In[8], and will incremenent appropriately as it is executed.\n",
    "\n",
    "Restarting the kernel (Refresh-looking icon on the Toolbar) will reset these In[] values.These values aren't super important, but it's good to know why those values are what they are when trying to debug your code."
   ]
  },
  {
   "cell_type": "markdown",
   "metadata": {},
   "source": [
    "# Example of using Cells Together \n",
    "\n",
    "Let's store the value \"TryHackMe is a great platform!\" into a string and then output the length of the string."
   ]
  },
  {
   "cell_type": "code",
   "execution_count": 3,
   "metadata": {},
   "outputs": [],
   "source": [
    "s = \"TryHackMe is a great platform!\""
   ]
  },
  {
   "cell_type": "code",
   "execution_count": 4,
   "metadata": {},
   "outputs": [
    {
     "data": {
      "text/plain": [
       "30"
      ]
     },
     "execution_count": 4,
     "metadata": {},
     "output_type": "execute_result"
    }
   ],
   "source": [
    "len(s)"
   ]
  },
  {
   "cell_type": "markdown",
   "metadata": {},
   "source": [
    "The cell containing the string \"s\" **must be executed for the cell with `len(s)` to work.** If the cell storing \"TryHackMe is a great platform\" into a string is not executed, then `len(s`) will not work. This is essential to know."
   ]
  }
 ],
 "metadata": {
  "kernelspec": {
   "display_name": "Python 3",
   "language": "python",
   "name": "python3"
  },
  "language_info": {
   "codemirror_mode": {
    "name": "ipython",
    "version": 3
   },
   "file_extension": ".py",
   "mimetype": "text/x-python",
   "name": "python",
   "nbconvert_exporter": "python",
   "pygments_lexer": "ipython3",
   "version": "3.6.9"
  }
 },
 "nbformat": 4,
 "nbformat_minor": 4
}
