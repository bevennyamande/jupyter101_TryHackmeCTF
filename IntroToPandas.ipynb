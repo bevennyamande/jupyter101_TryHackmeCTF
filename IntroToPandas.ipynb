{
 "cells": [
  {
   "cell_type": "markdown",
   "metadata": {},
   "source": [
    "## Pandas!\n",
    "Whilst they're cute, we're not talking about *those* Pandas. We're talking about [Pydata's Pandas](https://pandas.pydata.org/)\n",
    "\n",
    "I'm assuming you're familiar with the basics of Python or programming syntax as a general.\n",
    "#### Pandas is:\n",
    "- A fantastic framework built specifically for data analysis, number crunching and manipulation!\n",
    "- An essential tool in Data Science\n",
    "- Easy to pickup, hard to master. Your results will ultimately depend on how useful your dataset is. Especially considering there's many ways of going about it.\n",
    "\n",
    "I mean, if the [cheatsheet](https://pandas.pydata.org/Pandas_Cheat_Sheet.pdf) doesn't scare you...Fret not though!\n",
    "\n",
    "#### The two main components of Pandas\n",
    "- Series\n",
    "- Dataframes\n",
    "\n",
    "Series can be thought of a singular colum in a spreadsheet. It is one-dimension, so can still hold anything like integers, strings, etc.\n",
    "\n",
    "Dataframes are more complex, and a lot more common. These can be considered as a fully-capable spreadsheet, with multiple columns and rows.\n",
    "\n",
    "\n",
    "\n",
    "#### First, we need a dataset!\n",
    "There's **loads** and I mean [loads](https://github.com/awesomedata/awesome-public-datasets) out there for you to experiment with, but for the moment I've made some simple, lightweight and fairly generic datasets that we can use.\n",
    "\n",
    "You can import data through various means, for example: \n",
    "- Database\n",
    "- CSV Files\n",
    "- API's"
   ]
  },
  {
   "cell_type": "code",
   "execution_count": 1,
   "metadata": {},
   "outputs": [
    {
     "name": "stdout",
     "output_type": "stream",
     "text": [
      "0    10\n",
      "1    15\n",
      "2    30\n",
      "3    35\n",
      "4    70\n",
      "5    75\n",
      "dtype: int64\n"
     ]
    }
   ],
   "source": [
    "# Lets import pandas! Normally this is not a standard Python library, so you'd have to install via pip (or Anaconda), but I have already installed it for you.\n",
    "import pandas as pd\n",
    "\n",
    "\n",
    "# Store the integers into \"series\"\n",
    "series = pd.Series([10, 15, 30, 35, 70, 75])\n",
    "\n",
    "print(series)"
   ]
  },
  {
   "cell_type": "markdown",
   "metadata": {},
   "source": [
    "### We're already using Pandas!\n",
    "We can see Pandas has outputted our integers into a single column, displaying their index numbers (remember that Python starts at 0)\n",
    "\n",
    "\n",
    "#### But that's very basic and not very helpful, so let's start getting to the nitty-gritty\n",
    "\n",
    "Dataframes "
   ]
  },
  {
   "cell_type": "code",
   "execution_count": 2,
   "metadata": {},
   "outputs": [
    {
     "data": {
      "text/html": [
       "<div>\n",
       "<style scoped>\n",
       "    .dataframe tbody tr th:only-of-type {\n",
       "        vertical-align: middle;\n",
       "    }\n",
       "\n",
       "    .dataframe tbody tr th {\n",
       "        vertical-align: top;\n",
       "    }\n",
       "\n",
       "    .dataframe thead th {\n",
       "        text-align: right;\n",
       "    }\n",
       "</style>\n",
       "<table border=\"1\" class=\"dataframe\">\n",
       "  <thead>\n",
       "    <tr style=\"text-align: right;\">\n",
       "      <th></th>\n",
       "      <th>T-Shirts</th>\n",
       "      <th>Mugs</th>\n",
       "      <th>Keyrings</th>\n",
       "    </tr>\n",
       "  </thead>\n",
       "  <tbody>\n",
       "    <tr>\n",
       "      <th>0</th>\n",
       "      <td>5</td>\n",
       "      <td>2</td>\n",
       "      <td>10</td>\n",
       "    </tr>\n",
       "  </tbody>\n",
       "</table>\n",
       "</div>"
      ],
      "text/plain": [
       "   T-Shirts  Mugs  Keyrings\n",
       "0         5     2        10"
      ]
     },
     "execution_count": 2,
     "metadata": {},
     "output_type": "execute_result"
    }
   ],
   "source": [
    "# Lets visualise the data of a few purchases from an e-commerce site\n",
    "\n",
    "orders = {\n",
    "    'T-Shirts': [5],\n",
    "    'Mugs': [2],\n",
    "    'Keyrings': [10]\n",
    "}\n",
    "\n",
    "# Insert the values from \"orders\" into Pandas \"Dataframe\" \n",
    "\n",
    "orders = pd.DataFrame(orders)\n",
    "\n",
    "# And display!\n",
    "orders"
   ]
  },
  {
   "cell_type": "markdown",
   "metadata": {},
   "source": [
    "Okay, so it's printed out a table! Great! We have the three columns - the categories, but there's still the index number (0) Let's add more data and see what happens\n",
    "\n",
    "Pandas requires the array values to be the same."
   ]
  },
  {
   "cell_type": "code",
   "execution_count": 3,
   "metadata": {},
   "outputs": [
    {
     "data": {
      "text/html": [
       "<div>\n",
       "<style scoped>\n",
       "    .dataframe tbody tr th:only-of-type {\n",
       "        vertical-align: middle;\n",
       "    }\n",
       "\n",
       "    .dataframe tbody tr th {\n",
       "        vertical-align: top;\n",
       "    }\n",
       "\n",
       "    .dataframe thead th {\n",
       "        text-align: right;\n",
       "    }\n",
       "</style>\n",
       "<table border=\"1\" class=\"dataframe\">\n",
       "  <thead>\n",
       "    <tr style=\"text-align: right;\">\n",
       "      <th></th>\n",
       "      <th>T-Shirts</th>\n",
       "      <th>Mugs</th>\n",
       "      <th>Keyrings</th>\n",
       "    </tr>\n",
       "  </thead>\n",
       "  <tbody>\n",
       "    <tr>\n",
       "      <th>0</th>\n",
       "      <td>5</td>\n",
       "      <td>2</td>\n",
       "      <td>10</td>\n",
       "    </tr>\n",
       "    <tr>\n",
       "      <th>1</th>\n",
       "      <td>12</td>\n",
       "      <td>3</td>\n",
       "      <td>20</td>\n",
       "    </tr>\n",
       "    <tr>\n",
       "      <th>2</th>\n",
       "      <td>8</td>\n",
       "      <td>22</td>\n",
       "      <td>55</td>\n",
       "    </tr>\n",
       "    <tr>\n",
       "      <th>3</th>\n",
       "      <td>1</td>\n",
       "      <td>7</td>\n",
       "      <td>30</td>\n",
       "    </tr>\n",
       "  </tbody>\n",
       "</table>\n",
       "</div>"
      ],
      "text/plain": [
       "   T-Shirts  Mugs  Keyrings\n",
       "0         5     2        10\n",
       "1        12     3        20\n",
       "2         8    22        55\n",
       "3         1     7        30"
      ]
     },
     "execution_count": 3,
     "metadata": {},
     "output_type": "execute_result"
    }
   ],
   "source": [
    "orders = {\n",
    "    'T-Shirts': [5, 12, 8, 1],\n",
    "    'Mugs': [2, 3, 22, 7],\n",
    "    'Keyrings': [10, 20, 55, 30]\n",
    "}\n",
    "\n",
    "# Insert the values from \"orders\" into Pandas \"DataFrame\" \n",
    "# Each Category in the array will correspond to a column in Pandas.\n",
    "\n",
    "orders = pd.DataFrame(orders)\n",
    "\n",
    "# And display!\n",
    "orders"
   ]
  },
  {
   "cell_type": "markdown",
   "metadata": {},
   "source": [
    "Sweet! We got more data, it's a bit jumbled up though, and we still see the index numbers which tell us nothing!"
   ]
  },
  {
   "cell_type": "code",
   "execution_count": 4,
   "metadata": {},
   "outputs": [
    {
     "data": {
      "text/html": [
       "<div>\n",
       "<style scoped>\n",
       "    .dataframe tbody tr th:only-of-type {\n",
       "        vertical-align: middle;\n",
       "    }\n",
       "\n",
       "    .dataframe tbody tr th {\n",
       "        vertical-align: top;\n",
       "    }\n",
       "\n",
       "    .dataframe thead th {\n",
       "        text-align: right;\n",
       "    }\n",
       "</style>\n",
       "<table border=\"1\" class=\"dataframe\">\n",
       "  <thead>\n",
       "    <tr style=\"text-align: right;\">\n",
       "      <th></th>\n",
       "      <th>T-Shirts</th>\n",
       "      <th>Mugs</th>\n",
       "      <th>Keyrings</th>\n",
       "    </tr>\n",
       "  </thead>\n",
       "  <tbody>\n",
       "    <tr>\n",
       "      <th>January</th>\n",
       "      <td>5</td>\n",
       "      <td>2</td>\n",
       "      <td>10</td>\n",
       "    </tr>\n",
       "    <tr>\n",
       "      <th>February</th>\n",
       "      <td>12</td>\n",
       "      <td>3</td>\n",
       "      <td>20</td>\n",
       "    </tr>\n",
       "    <tr>\n",
       "      <th>March</th>\n",
       "      <td>8</td>\n",
       "      <td>22</td>\n",
       "      <td>55</td>\n",
       "    </tr>\n",
       "    <tr>\n",
       "      <th>April</th>\n",
       "      <td>1</td>\n",
       "      <td>7</td>\n",
       "      <td>30</td>\n",
       "    </tr>\n",
       "  </tbody>\n",
       "</table>\n",
       "</div>"
      ],
      "text/plain": [
       "          T-Shirts  Mugs  Keyrings\n",
       "January          5     2        10\n",
       "February        12     3        20\n",
       "March            8    22        55\n",
       "April            1     7        30"
      ]
     },
     "execution_count": 4,
     "metadata": {},
     "output_type": "execute_result"
    }
   ],
   "source": [
    "# We can use Pandas to add an index - replacing the numerical \"0 - 3\" for each row, we can replace it with something a bit more logical\n",
    "# For example, Months!\n",
    "\n",
    "orders = {\n",
    "    'T-Shirts': [5, 12, 8, 1],\n",
    "    'Mugs': [2, 3, 22, 7],\n",
    "    'Keyrings': [10, 20, 55, 30]\n",
    "}\n",
    "\n",
    "\n",
    "orders = pd.DataFrame(orders, index=['January', 'February', 'March', 'April'])\n",
    "\n",
    "orders"
   ]
  },
  {
   "cell_type": "markdown",
   "metadata": {},
   "source": [
    "Ah! Now that makes more sense, we can see that March was their busiest Month for purchases!\n",
    "\n",
    "But we are only showing 4 Months here, what if we had a dataset that had all 12 Months? We can use Pandas to single out specific indexes.\n",
    "\n",
    "In other cases, we could use this to locate orders by a specific customer, for one of many examples."
   ]
  },
  {
   "cell_type": "code",
   "execution_count": 5,
   "metadata": {},
   "outputs": [
    {
     "data": {
      "text/plain": [
       "T-Shirts     1\n",
       "Mugs         7\n",
       "Keyrings    30\n",
       "Name: April, dtype: int64"
      ]
     },
     "execution_count": 5,
     "metadata": {},
     "output_type": "execute_result"
    }
   ],
   "source": [
    "orders.loc['April']"
   ]
  },
  {
   "cell_type": "markdown",
   "metadata": {},
   "source": [
    "## Lets start reading from CSV Files\n",
    "I've made a few little spreadsheets with random values that we can have a play with. Again, because these are multi-dimensional, we are still using dataframes\n",
    "\n",
    "CSV & misc files contains delimiters, these are identifiers that are used to seperate text values. Without these, all the text will be merged and read into one row for example. \n",
    "\n",
    "My dataset uses the ',' delimiter, so lets specify that when loading the CSV"
   ]
  },
  {
   "cell_type": "code",
   "execution_count": 6,
   "metadata": {},
   "outputs": [
    {
     "data": {
      "text/html": [
       "<div>\n",
       "<style scoped>\n",
       "    .dataframe tbody tr th:only-of-type {\n",
       "        vertical-align: middle;\n",
       "    }\n",
       "\n",
       "    .dataframe tbody tr th {\n",
       "        vertical-align: top;\n",
       "    }\n",
       "\n",
       "    .dataframe thead th {\n",
       "        text-align: right;\n",
       "    }\n",
       "</style>\n",
       "<table border=\"1\" class=\"dataframe\">\n",
       "  <thead>\n",
       "    <tr style=\"text-align: right;\">\n",
       "      <th></th>\n",
       "      <th>Month</th>\n",
       "      <th>T-Shirts</th>\n",
       "      <th>Mugs</th>\n",
       "      <th>Keyrings</th>\n",
       "    </tr>\n",
       "  </thead>\n",
       "  <tbody>\n",
       "    <tr>\n",
       "      <th>0</th>\n",
       "      <td>January</td>\n",
       "      <td>22</td>\n",
       "      <td>43</td>\n",
       "      <td>22</td>\n",
       "    </tr>\n",
       "    <tr>\n",
       "      <th>1</th>\n",
       "      <td>Feburary</td>\n",
       "      <td>10</td>\n",
       "      <td>246</td>\n",
       "      <td>231</td>\n",
       "    </tr>\n",
       "    <tr>\n",
       "      <th>2</th>\n",
       "      <td>March</td>\n",
       "      <td>14</td>\n",
       "      <td>14</td>\n",
       "      <td>34</td>\n",
       "    </tr>\n",
       "    <tr>\n",
       "      <th>3</th>\n",
       "      <td>April</td>\n",
       "      <td>2</td>\n",
       "      <td>10</td>\n",
       "      <td>12</td>\n",
       "    </tr>\n",
       "    <tr>\n",
       "      <th>4</th>\n",
       "      <td>May</td>\n",
       "      <td>4</td>\n",
       "      <td>2</td>\n",
       "      <td>4</td>\n",
       "    </tr>\n",
       "    <tr>\n",
       "      <th>5</th>\n",
       "      <td>June</td>\n",
       "      <td>87</td>\n",
       "      <td>63</td>\n",
       "      <td>7</td>\n",
       "    </tr>\n",
       "    <tr>\n",
       "      <th>6</th>\n",
       "      <td>July</td>\n",
       "      <td>43</td>\n",
       "      <td>432</td>\n",
       "      <td>2</td>\n",
       "    </tr>\n",
       "    <tr>\n",
       "      <th>7</th>\n",
       "      <td>August</td>\n",
       "      <td>14</td>\n",
       "      <td>123</td>\n",
       "      <td>4</td>\n",
       "    </tr>\n",
       "    <tr>\n",
       "      <th>8</th>\n",
       "      <td>September</td>\n",
       "      <td>16</td>\n",
       "      <td>67</td>\n",
       "      <td>8</td>\n",
       "    </tr>\n",
       "    <tr>\n",
       "      <th>9</th>\n",
       "      <td>October</td>\n",
       "      <td>29</td>\n",
       "      <td>100</td>\n",
       "      <td>3</td>\n",
       "    </tr>\n",
       "    <tr>\n",
       "      <th>10</th>\n",
       "      <td>November</td>\n",
       "      <td>3</td>\n",
       "      <td>12</td>\n",
       "      <td>1</td>\n",
       "    </tr>\n",
       "    <tr>\n",
       "      <th>11</th>\n",
       "      <td>December</td>\n",
       "      <td>5</td>\n",
       "      <td>23</td>\n",
       "      <td>7</td>\n",
       "    </tr>\n",
       "  </tbody>\n",
       "</table>\n",
       "</div>"
      ],
      "text/plain": [
       "        Month  T-Shirts  Mugs  Keyrings\n",
       "0     January        22    43        22\n",
       "1   Feburary         10   246       231\n",
       "2       March        14    14        34\n",
       "3       April         2    10        12\n",
       "4         May         4     2         4\n",
       "5        June        87    63         7\n",
       "6        July        43   432         2\n",
       "7      August        14   123         4\n",
       "8   September        16    67         8\n",
       "9     October        29   100         3\n",
       "10   November         3    12         1\n",
       "11   December         5    23         7"
      ]
     },
     "execution_count": 6,
     "metadata": {},
     "output_type": "execute_result"
    }
   ],
   "source": [
    "# load the csv file into the dataframe\n",
    "# Pandas has a literal function for reading CSV files! How about that\n",
    "# Then we specify our datasets delimiter\n",
    "\n",
    "csvfile = pd.read_csv('simple_orders.csv', delimiter = ',')\n",
    "\n",
    "csvfile\n"
   ]
  },
  {
   "cell_type": "markdown",
   "metadata": {},
   "source": [
    "We have literally just outputted an entire spreadsheet in essentially two lines of code (ignoring the imports at the start of the notebook)\n",
    "\n",
    "Still notice the index numbers though? I certainly didn't put them in the spreadsheet, so that's Pandas doing that - as we've seen before."
   ]
  },
  {
   "cell_type": "code",
   "execution_count": 7,
   "metadata": {},
   "outputs": [
    {
     "data": {
      "text/html": [
       "<div>\n",
       "<style scoped>\n",
       "    .dataframe tbody tr th:only-of-type {\n",
       "        vertical-align: middle;\n",
       "    }\n",
       "\n",
       "    .dataframe tbody tr th {\n",
       "        vertical-align: top;\n",
       "    }\n",
       "\n",
       "    .dataframe thead th {\n",
       "        text-align: right;\n",
       "    }\n",
       "</style>\n",
       "<table border=\"1\" class=\"dataframe\">\n",
       "  <thead>\n",
       "    <tr style=\"text-align: right;\">\n",
       "      <th></th>\n",
       "      <th>T-Shirts</th>\n",
       "      <th>Mugs</th>\n",
       "      <th>Keyrings</th>\n",
       "    </tr>\n",
       "    <tr>\n",
       "      <th>Month</th>\n",
       "      <th></th>\n",
       "      <th></th>\n",
       "      <th></th>\n",
       "    </tr>\n",
       "  </thead>\n",
       "  <tbody>\n",
       "    <tr>\n",
       "      <th>January</th>\n",
       "      <td>22</td>\n",
       "      <td>43</td>\n",
       "      <td>22</td>\n",
       "    </tr>\n",
       "    <tr>\n",
       "      <th>Feburary</th>\n",
       "      <td>10</td>\n",
       "      <td>246</td>\n",
       "      <td>231</td>\n",
       "    </tr>\n",
       "    <tr>\n",
       "      <th>March</th>\n",
       "      <td>14</td>\n",
       "      <td>14</td>\n",
       "      <td>34</td>\n",
       "    </tr>\n",
       "    <tr>\n",
       "      <th>April</th>\n",
       "      <td>2</td>\n",
       "      <td>10</td>\n",
       "      <td>12</td>\n",
       "    </tr>\n",
       "    <tr>\n",
       "      <th>May</th>\n",
       "      <td>4</td>\n",
       "      <td>2</td>\n",
       "      <td>4</td>\n",
       "    </tr>\n",
       "    <tr>\n",
       "      <th>June</th>\n",
       "      <td>87</td>\n",
       "      <td>63</td>\n",
       "      <td>7</td>\n",
       "    </tr>\n",
       "    <tr>\n",
       "      <th>July</th>\n",
       "      <td>43</td>\n",
       "      <td>432</td>\n",
       "      <td>2</td>\n",
       "    </tr>\n",
       "    <tr>\n",
       "      <th>August</th>\n",
       "      <td>14</td>\n",
       "      <td>123</td>\n",
       "      <td>4</td>\n",
       "    </tr>\n",
       "    <tr>\n",
       "      <th>September</th>\n",
       "      <td>16</td>\n",
       "      <td>67</td>\n",
       "      <td>8</td>\n",
       "    </tr>\n",
       "    <tr>\n",
       "      <th>October</th>\n",
       "      <td>29</td>\n",
       "      <td>100</td>\n",
       "      <td>3</td>\n",
       "    </tr>\n",
       "    <tr>\n",
       "      <th>November</th>\n",
       "      <td>3</td>\n",
       "      <td>12</td>\n",
       "      <td>1</td>\n",
       "    </tr>\n",
       "    <tr>\n",
       "      <th>December</th>\n",
       "      <td>5</td>\n",
       "      <td>23</td>\n",
       "      <td>7</td>\n",
       "    </tr>\n",
       "  </tbody>\n",
       "</table>\n",
       "</div>"
      ],
      "text/plain": [
       "           T-Shirts  Mugs  Keyrings\n",
       "Month                              \n",
       "January          22    43        22\n",
       "Feburary         10   246       231\n",
       "March            14    14        34\n",
       "April             2    10        12\n",
       "May               4     2         4\n",
       "June             87    63         7\n",
       "July             43   432         2\n",
       "August           14   123         4\n",
       "September        16    67         8\n",
       "October          29   100         3\n",
       "November          3    12         1\n",
       "December          5    23         7"
      ]
     },
     "execution_count": 7,
     "metadata": {},
     "output_type": "execute_result"
    }
   ],
   "source": [
    "csvfile = pd.read_csv('simple_orders.csv', delimiter = ',', index_col=0) \n",
    "\n",
    "csvfile"
   ]
  },
  {
   "cell_type": "markdown",
   "metadata": {},
   "source": [
    "By specifying what column is the index, we have removed the automatic assumption that Pandas makes which results in the addition of the index numbers as an additional column. Sweet!\n",
    "\n",
    "You don't need to specify the column number that is the index, you can instead just specify the value of it, like so. "
   ]
  },
  {
   "cell_type": "code",
   "execution_count": 8,
   "metadata": {},
   "outputs": [
    {
     "data": {
      "text/html": [
       "<div>\n",
       "<style scoped>\n",
       "    .dataframe tbody tr th:only-of-type {\n",
       "        vertical-align: middle;\n",
       "    }\n",
       "\n",
       "    .dataframe tbody tr th {\n",
       "        vertical-align: top;\n",
       "    }\n",
       "\n",
       "    .dataframe thead th {\n",
       "        text-align: right;\n",
       "    }\n",
       "</style>\n",
       "<table border=\"1\" class=\"dataframe\">\n",
       "  <thead>\n",
       "    <tr style=\"text-align: right;\">\n",
       "      <th></th>\n",
       "      <th>T-Shirts</th>\n",
       "      <th>Mugs</th>\n",
       "      <th>Keyrings</th>\n",
       "    </tr>\n",
       "    <tr>\n",
       "      <th>Month</th>\n",
       "      <th></th>\n",
       "      <th></th>\n",
       "      <th></th>\n",
       "    </tr>\n",
       "  </thead>\n",
       "  <tbody>\n",
       "    <tr>\n",
       "      <th>January</th>\n",
       "      <td>22</td>\n",
       "      <td>43</td>\n",
       "      <td>22</td>\n",
       "    </tr>\n",
       "    <tr>\n",
       "      <th>Feburary</th>\n",
       "      <td>10</td>\n",
       "      <td>246</td>\n",
       "      <td>231</td>\n",
       "    </tr>\n",
       "    <tr>\n",
       "      <th>March</th>\n",
       "      <td>14</td>\n",
       "      <td>14</td>\n",
       "      <td>34</td>\n",
       "    </tr>\n",
       "    <tr>\n",
       "      <th>April</th>\n",
       "      <td>2</td>\n",
       "      <td>10</td>\n",
       "      <td>12</td>\n",
       "    </tr>\n",
       "    <tr>\n",
       "      <th>May</th>\n",
       "      <td>4</td>\n",
       "      <td>2</td>\n",
       "      <td>4</td>\n",
       "    </tr>\n",
       "    <tr>\n",
       "      <th>June</th>\n",
       "      <td>87</td>\n",
       "      <td>63</td>\n",
       "      <td>7</td>\n",
       "    </tr>\n",
       "    <tr>\n",
       "      <th>July</th>\n",
       "      <td>43</td>\n",
       "      <td>432</td>\n",
       "      <td>2</td>\n",
       "    </tr>\n",
       "    <tr>\n",
       "      <th>August</th>\n",
       "      <td>14</td>\n",
       "      <td>123</td>\n",
       "      <td>4</td>\n",
       "    </tr>\n",
       "    <tr>\n",
       "      <th>September</th>\n",
       "      <td>16</td>\n",
       "      <td>67</td>\n",
       "      <td>8</td>\n",
       "    </tr>\n",
       "    <tr>\n",
       "      <th>October</th>\n",
       "      <td>29</td>\n",
       "      <td>100</td>\n",
       "      <td>3</td>\n",
       "    </tr>\n",
       "    <tr>\n",
       "      <th>November</th>\n",
       "      <td>3</td>\n",
       "      <td>12</td>\n",
       "      <td>1</td>\n",
       "    </tr>\n",
       "    <tr>\n",
       "      <th>December</th>\n",
       "      <td>5</td>\n",
       "      <td>23</td>\n",
       "      <td>7</td>\n",
       "    </tr>\n",
       "  </tbody>\n",
       "</table>\n",
       "</div>"
      ],
      "text/plain": [
       "           T-Shirts  Mugs  Keyrings\n",
       "Month                              \n",
       "January          22    43        22\n",
       "Feburary         10   246       231\n",
       "March            14    14        34\n",
       "April             2    10        12\n",
       "May               4     2         4\n",
       "June             87    63         7\n",
       "July             43   432         2\n",
       "August           14   123         4\n",
       "September        16    67         8\n",
       "October          29   100         3\n",
       "November          3    12         1\n",
       "December          5    23         7"
      ]
     },
     "execution_count": 8,
     "metadata": {},
     "output_type": "execute_result"
    }
   ],
   "source": [
    "csvfile = pd.read_csv('simple_orders.csv', delimiter = ',', index_col=\"Month\") \n",
    "\n",
    "csvfile"
   ]
  },
  {
   "cell_type": "markdown",
   "metadata": {},
   "source": [
    "We get the exact same result, just by specifying the column name instead of its index number!"
   ]
  },
  {
   "cell_type": "markdown",
   "metadata": {},
   "source": [
    "## But! This is just a small dataset...\n",
    "Very oftenly, datasets such as CSV files are not small in the slightest. Our current method outputs the entire contents, imagine trying to display 4000 rows and 200 columns? Not very effective...\n",
    "\n",
    "We can instead, just tell Pandas to display a certain number of rows.\n",
    "\n",
    "In our example we have 12 rows, lets tell Pandas to only display 3. \n",
    "\n",
    "**Just because only 3 are being rendered, the entire 12 rows are still loaded**"
   ]
  },
  {
   "cell_type": "code",
   "execution_count": 9,
   "metadata": {},
   "outputs": [
    {
     "data": {
      "text/html": [
       "<div>\n",
       "<style scoped>\n",
       "    .dataframe tbody tr th:only-of-type {\n",
       "        vertical-align: middle;\n",
       "    }\n",
       "\n",
       "    .dataframe tbody tr th {\n",
       "        vertical-align: top;\n",
       "    }\n",
       "\n",
       "    .dataframe thead th {\n",
       "        text-align: right;\n",
       "    }\n",
       "</style>\n",
       "<table border=\"1\" class=\"dataframe\">\n",
       "  <thead>\n",
       "    <tr style=\"text-align: right;\">\n",
       "      <th></th>\n",
       "      <th>T-Shirts</th>\n",
       "      <th>Mugs</th>\n",
       "      <th>Keyrings</th>\n",
       "    </tr>\n",
       "    <tr>\n",
       "      <th>Month</th>\n",
       "      <th></th>\n",
       "      <th></th>\n",
       "      <th></th>\n",
       "    </tr>\n",
       "  </thead>\n",
       "  <tbody>\n",
       "    <tr>\n",
       "      <th>January</th>\n",
       "      <td>22</td>\n",
       "      <td>43</td>\n",
       "      <td>22</td>\n",
       "    </tr>\n",
       "    <tr>\n",
       "      <th>Feburary</th>\n",
       "      <td>10</td>\n",
       "      <td>246</td>\n",
       "      <td>231</td>\n",
       "    </tr>\n",
       "    <tr>\n",
       "      <th>March</th>\n",
       "      <td>14</td>\n",
       "      <td>14</td>\n",
       "      <td>34</td>\n",
       "    </tr>\n",
       "  </tbody>\n",
       "</table>\n",
       "</div>"
      ],
      "text/plain": [
       "           T-Shirts  Mugs  Keyrings\n",
       "Month                              \n",
       "January          22    43        22\n",
       "Feburary         10   246       231\n",
       "March            14    14        34"
      ]
     },
     "execution_count": 9,
     "metadata": {},
     "output_type": "execute_result"
    }
   ],
   "source": [
    "# You can replace \"3\" with whatever number you like. Well..upto 12 anyways.\n",
    "\n",
    "csvfile.head(3)"
   ]
  },
  {
   "cell_type": "code",
   "execution_count": 10,
   "metadata": {},
   "outputs": [
    {
     "data": {
      "text/html": [
       "<div>\n",
       "<style scoped>\n",
       "    .dataframe tbody tr th:only-of-type {\n",
       "        vertical-align: middle;\n",
       "    }\n",
       "\n",
       "    .dataframe tbody tr th {\n",
       "        vertical-align: top;\n",
       "    }\n",
       "\n",
       "    .dataframe thead th {\n",
       "        text-align: right;\n",
       "    }\n",
       "</style>\n",
       "<table border=\"1\" class=\"dataframe\">\n",
       "  <thead>\n",
       "    <tr style=\"text-align: right;\">\n",
       "      <th></th>\n",
       "      <th>T-Shirts</th>\n",
       "      <th>Mugs</th>\n",
       "      <th>Keyrings</th>\n",
       "    </tr>\n",
       "    <tr>\n",
       "      <th>Month</th>\n",
       "      <th></th>\n",
       "      <th></th>\n",
       "      <th></th>\n",
       "    </tr>\n",
       "  </thead>\n",
       "  <tbody>\n",
       "    <tr>\n",
       "      <th>October</th>\n",
       "      <td>29</td>\n",
       "      <td>100</td>\n",
       "      <td>3</td>\n",
       "    </tr>\n",
       "    <tr>\n",
       "      <th>November</th>\n",
       "      <td>3</td>\n",
       "      <td>12</td>\n",
       "      <td>1</td>\n",
       "    </tr>\n",
       "    <tr>\n",
       "      <th>December</th>\n",
       "      <td>5</td>\n",
       "      <td>23</td>\n",
       "      <td>7</td>\n",
       "    </tr>\n",
       "  </tbody>\n",
       "</table>\n",
       "</div>"
      ],
      "text/plain": [
       "          T-Shirts  Mugs  Keyrings\n",
       "Month                             \n",
       "October         29   100         3\n",
       "November         3    12         1\n",
       "December         5    23         7"
      ]
     },
     "execution_count": 10,
     "metadata": {},
     "output_type": "execute_result"
    }
   ],
   "source": [
    "# You can also just display a certain number of the bottom rowss if you wish! This is fairly common when handling datasets\n",
    "# So that we can get a good picture of makeup of the dataset without trying to render it all.\n",
    "\n",
    "# Again, you can replce \"3\" with whatever number you like.\n",
    "\n",
    "csvfile.tail(3)"
   ]
  },
  {
   "cell_type": "markdown",
   "metadata": {},
   "source": [
    "We've managed to tell Pandas to only display \"January, Feburary and March\" and then later to only display \"October, November, December\" using `.head(#)` `.tail(#)` Neat! These sort of things are super super common when handling data, so we've nailed a core principle.\n",
    "\n",
    "\n",
    "### Before we start the pretty stuff:\n",
    "There's a final little snippet that is again, another super useful and important function in data handling. the `shape`\n",
    "\n",
    "This is often used when cleaning up datasets (they are often very wishy-washy to what we need, so `.shape` is a great way to display what exactly our filtering has done."
   ]
  },
  {
   "cell_type": "code",
   "execution_count": 11,
   "metadata": {},
   "outputs": [
    {
     "data": {
      "text/plain": [
       "(12, 3)"
      ]
     },
     "execution_count": 11,
     "metadata": {},
     "output_type": "execute_result"
    }
   ],
   "source": [
    "# Simply, rather then rendering any data, lets just figure out a numerical value for what's in there!\n",
    "\n",
    "csvfile.shape"
   ]
  },
  {
   "cell_type": "markdown",
   "metadata": {},
   "source": [
    "Panda's `.shape` processes the specified file, and counts the contents in the following format: **rows, columns**\n",
    "\n",
    "So in our case, we have **12 rows** and **3 columns** "
   ]
  },
  {
   "cell_type": "markdown",
   "metadata": {},
   "source": [
    "Finally, what if we wanted to just count the amount of values in a column or category, such as mugs?"
   ]
  },
  {
   "cell_type": "code",
   "execution_count": 12,
   "metadata": {},
   "outputs": [
    {
     "data": {
      "text/plain": [
       "Mugs    12\n",
       "dtype: int64"
      ]
     },
     "execution_count": 12,
     "metadata": {},
     "output_type": "execute_result"
    }
   ],
   "source": [
    "csvfile[['Mugs']].count()"
   ]
  },
  {
   "cell_type": "markdown",
   "metadata": {},
   "source": [
    "## Good job! Answer the questions in the room, and then we'll see how we can plot this data into graphs!"
   ]
  }
 ],
 "metadata": {
  "kernelspec": {
   "display_name": "Python 3",
   "language": "python",
   "name": "python3"
  },
  "language_info": {
   "codemirror_mode": {
    "name": "ipython",
    "version": 3
   },
   "file_extension": ".py",
   "mimetype": "text/x-python",
   "name": "python",
   "nbconvert_exporter": "python",
   "pygments_lexer": "ipython3",
   "version": "3.6.9"
  }
 },
 "nbformat": 4,
 "nbformat_minor": 4
}
